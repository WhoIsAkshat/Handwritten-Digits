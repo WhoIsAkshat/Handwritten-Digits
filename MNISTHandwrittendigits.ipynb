{
 "cells": [
  {
   "cell_type": "code",
   "execution_count": 2,
   "id": "85019641",
   "metadata": {},
   "outputs": [],
   "source": [
    "import tensorflow as tf\n",
    "from keras.models import Sequential\n",
    "from keras.layers import Dense, Flatten\n",
    "from keras.utils import to_categorical\n"
   ]
  },
  {
   "cell_type": "code",
   "execution_count": 3,
   "id": "633651f7",
   "metadata": {},
   "outputs": [],
   "source": [
    "from sklearn.datasets import fetch_openml"
   ]
  },
  {
   "cell_type": "code",
   "execution_count": 4,
   "id": "c6e51247",
   "metadata": {},
   "outputs": [
    {
     "name": "stderr",
     "output_type": "stream",
     "text": [
      "c:\\users\\aksha\\appdata\\local\\programs\\python\\python38\\lib\\site-packages\\sklearn\\datasets\\_openml.py:932: FutureWarning: The default value of `parser` will change from `'liac-arff'` to `'auto'` in 1.4. You can set `parser='auto'` to silence this warning. Therefore, an `ImportError` will be raised from 1.4 if the dataset is dense and pandas is not installed. Note that the pandas parser may return different data types. See the Notes Section in fetch_openml's API doc for details.\n",
      "  warn(\n"
     ]
    }
   ],
   "source": [
    "# Load the MNIST dataset\n",
    "mnist = fetch_openml('mnist_784')\n",
    "X, y = mnist['data'], mnist['target']\n",
    "y = to_categorical(y)\n",
    "X = X.to_numpy()\n",
    "\n",
    "# Reshape the input data and normalize it\n",
    "X = X.reshape((-1, 28, 28, 1))\n",
    "X = X / 255.0"
   ]
  },
  {
   "cell_type": "code",
   "execution_count": 5,
   "id": "24df98ec",
   "metadata": {},
   "outputs": [],
   "source": [
    "# Define the model architecture\n",
    "model = tf.keras.Sequential([\n",
    "    tf.keras.layers.Conv2D(32, (3, 3), activation='relu'),\n",
    "    tf.keras.layers.MaxPooling2D((2, 2)),\n",
    "    tf.keras.layers.Flatten(),\n",
    "    tf.keras.layers.Dense(128, activation='relu'),\n",
    "    tf.keras.layers.Dense(10, activation='softmax')\n",
    "])\n",
    "\n",
    "# Compile the model\n",
    "model.compile(optimizer='adam', loss='categorical_crossentropy', metrics=['accuracy'])"
   ]
  },
  {
   "cell_type": "code",
   "execution_count": 6,
   "id": "c9262622",
   "metadata": {},
   "outputs": [
    {
     "name": "stdout",
     "output_type": "stream",
     "text": [
      "Epoch 1/10\n",
      "2188/2188 [==============================] - 23s 10ms/step - loss: 0.1360 - accuracy: 0.9595\n",
      "Epoch 2/10\n",
      "2188/2188 [==============================] - 23s 10ms/step - loss: 0.0465 - accuracy: 0.9857\n",
      "Epoch 3/10\n",
      "2188/2188 [==============================] - 20s 9ms/step - loss: 0.0296 - accuracy: 0.9905\n",
      "Epoch 4/10\n",
      "2188/2188 [==============================] - 20s 9ms/step - loss: 0.0199 - accuracy: 0.9938\n",
      "Epoch 5/10\n",
      "2188/2188 [==============================] - 22s 10ms/step - loss: 0.0135 - accuracy: 0.9956\n",
      "Epoch 6/10\n",
      "2188/2188 [==============================] - 19s 9ms/step - loss: 0.0085 - accuracy: 0.9972\n",
      "Epoch 7/10\n",
      "2188/2188 [==============================] - 19s 9ms/step - loss: 0.0073 - accuracy: 0.9977\n",
      "Epoch 8/10\n",
      "2188/2188 [==============================] - 22s 10ms/step - loss: 0.0057 - accuracy: 0.9981\n",
      "Epoch 9/10\n",
      "2188/2188 [==============================] - 22s 10ms/step - loss: 0.0046 - accuracy: 0.9985\n",
      "Epoch 10/10\n",
      "2188/2188 [==============================] - 20s 9ms/step - loss: 0.0039 - accuracy: 0.9987\n"
     ]
    },
    {
     "data": {
      "text/plain": [
       "<keras.callbacks.History at 0x22379275820>"
      ]
     },
     "execution_count": 6,
     "metadata": {},
     "output_type": "execute_result"
    }
   ],
   "source": [
    "\n",
    "# Train the model\n",
    "model.fit(X, y, batch_size=32, epochs=10)\n"
   ]
  },
  {
   "cell_type": "code",
   "execution_count": 48,
   "id": "3cf6d30e",
   "metadata": {},
   "outputs": [
    {
     "name": "stdout",
     "output_type": "stream",
     "text": [
      "1/1 [==============================] - 0s 24ms/step\n",
      "The predicted digit is: 8\n"
     ]
    }
   ],
   "source": [
    "import cv2\n",
    "import numpy as np\n",
    "\n",
    "# Load the image in grayscale\n",
    "img = cv2.imread('D:/ELC 4th sem/Untitled Folder/download3.jpg', cv2.IMREAD_GRAYSCALE)\n",
    "\n",
    "# Resize the image to 28x28 pixels\n",
    "img = cv2.resize(img, (28, 28))\n",
    "\n",
    "# Invert the colors (if necessary)\n",
    "img = 255 - img\n",
    "\n",
    "# Flatten the image and normalize the values\n",
    "img = img.flatten() / 255.0\n",
    "\n",
    "# Reshape the array to match the input shape of the model\n",
    "img = img.reshape(1, 28, 28, 1)\n",
    "\n",
    "# Feed the image to the model and obtain the predictions\n",
    "predictions = model.predict(img)\n",
    "\n",
    "# Get the predicted digit\n",
    "predicted_digit = np.argmax(predictions)\n",
    "\n",
    "print(\"The predicted digit is:\", predicted_digit)\n"
   ]
  },
  {
   "cell_type": "code",
   "execution_count": 8,
   "id": "cc48a991",
   "metadata": {
    "scrolled": true
   },
   "outputs": [
    {
     "name": "stdout",
     "output_type": "stream",
     "text": [
      "1.23.3\n",
      "9.2.0\n",
      "1.2.1\n",
      "8.6\n"
     ]
    }
   ],
   "source": [
    "import numpy as np\n",
    "import PIL\n",
    "import sklearn\n",
    "import tkinter as tk\n",
    "\n",
    "print(np.__version__)\n",
    "print(PIL.__version__)\n",
    "print(sklearn.__version__)\n",
    "print(tk.TkVersion)\n"
   ]
  },
  {
   "cell_type": "code",
   "execution_count": 46,
   "id": "01426612",
   "metadata": {},
   "outputs": [],
   "source": [
    "from tkinter import *\n",
    "from tkinter import filedialog\n",
    "from PIL import Image, ImageDraw\n",
    "\n",
    "# Set up the window\n",
    "window = Tk()\n",
    "window.title(\"Drawing Program\")\n",
    "\n",
    "# Set up the canvas\n",
    "canvas_width = 256\n",
    "canvas_height = 256\n",
    "canvas = Canvas(window, width=canvas_width, height=canvas_height, bg=\"white\")\n",
    "canvas.pack()\n",
    "\n",
    "# Set up the drawing tool\n",
    "image = Image.new(\"RGB\", (canvas_width, canvas_height), (255, 255, 255))\n",
    "draw_tool = ImageDraw.Draw(image)\n",
    "\n",
    "# Set up the function to handle mouse movements\n",
    "def on_mouse_move(event):\n",
    "    x, y = event.x, event.y\n",
    "    draw_tool.line((x, y, x+1, y+1), fill=\"black\", width=10)\n",
    "    canvas.create_oval(x, y, x+5, y+5, fill=\"black\", outline=\"black\")\n",
    "\n",
    "# Bind the mouse movement to the canvas\n",
    "canvas.bind(\"<B1-Motion>\", on_mouse_move)\n",
    "\n",
    "# Set up the function to save the drawing as a JPEG file\n",
    "def save_drawing():\n",
    "    filename = filedialog.asksaveasfilename(defaultextension=\".jpg\", filetypes=[(\"JPEG\", \"*.jpg\")])\n",
    "    if filename:\n",
    "        image.save(filename)\n",
    "\n",
    "# Set up the \"Save\" button\n",
    "save_button = Button(window, text=\"Save\", command=save_drawing)\n",
    "save_button.pack(side=BOTTOM, padx=10, pady=10)\n",
    "\n",
    "# Start the main event loop\n",
    "window.mainloop()\n"
   ]
  }
 ],
 "metadata": {
  "kernelspec": {
   "display_name": "Python 3 (ipykernel)",
   "language": "python",
   "name": "python3"
  },
  "language_info": {
   "codemirror_mode": {
    "name": "ipython",
    "version": 3
   },
   "file_extension": ".py",
   "mimetype": "text/x-python",
   "name": "python",
   "nbconvert_exporter": "python",
   "pygments_lexer": "ipython3",
   "version": "3.8.0"
  }
 },
 "nbformat": 4,
 "nbformat_minor": 5
}
